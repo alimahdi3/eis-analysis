{
 "cells": [
  {
   "cell_type": "code",
   "execution_count": 2,
   "metadata": {},
   "outputs": [],
   "source": [
    "import numpy as np\n",
    "import matplotlib.pyplot as plt\n",
    "from scipy.io import loadmat"
   ]
  },
  {
   "cell_type": "code",
   "execution_count": 3,
   "metadata": {},
   "outputs": [
    {
     "name": "stderr",
     "output_type": "stream",
     "text": [
      "/Users/alimahdi/anaconda3/lib/python3.8/site-packages/scipy/io/matlab/mio.py:224: MatReadWarning: Duplicate variable name \"None\" in stream - replacing previous with new\n",
      "Consider mio5.varmats_from_mat to split file into single variable files\n",
      "  matfile_dict = MR.get_variables(variable_names)\n"
     ]
    }
   ],
   "source": [
    "data = \"load_data_here\""
   ]
  },
  {
   "cell_type": "code",
   "execution_count": 4,
   "metadata": {},
   "outputs": [],
   "source": [
    "zin_EIS = data['Zin_EIS']\n",
    "zout_EIS = data['Zout_EIS']"
   ]
  },
  {
   "cell_type": "code",
   "execution_count": 5,
   "metadata": {},
   "outputs": [],
   "source": [
    "# For EIS\n",
    "# Define frequency\n",
    "w = np.zeros(zout_EIS.shape[1])\n",
    "num = -1\n",
    "for i in range(zout_EIS.shape[1]):\n",
    "    w[i] = 2*np.pi*10**(num)\n",
    "    num += 0.1\n",
    "EDC = 0; # EIS DC component of cell potential in V"
   ]
  },
  {
   "cell_type": "code",
   "execution_count": 6,
   "metadata": {},
   "outputs": [],
   "source": [
    "E0 = 0 # standard potential of redox couple in V\n",
    "n=1 # number of electrons per rxn\n",
    "F=96400 # charge of electron in C/mol\n",
    "R=8.31 # gas constant in J/mol/K\n",
    "T=298 # temperature in K\n",
    "A=1 # area in cm^2"
   ]
  },
  {
   "cell_type": "code",
   "execution_count": 9,
   "metadata": {},
   "outputs": [],
   "source": [
    "# Variables that could be fit related to redox part are below:\n",
    "# IGNORE AT FIRST, LEAVE UNCHANGED\n",
    "D=1e-5 # diffusion constant in cm^2/s\n",
    "ctotal=1e-6 # total concentration of redox species in mol/cm^3\n",
    "Rct0 = 200 # charge-transfer resistance at E0 in ohms\n",
    "\n",
    "# charge-transfer resistance at EDC for alpha=1/2\n",
    "Rct = Rct0*(np.exp((EDC-E0)/(2*R*T/n/F))+np.exp(-(EDC-E0)/(2*R*T/n/F)))/2; \n",
    "# redox capacitance in F\n",
    "\n",
    "Credox = (n**2*F**2/R/T)*A*(D/w)**0.5*ctotal*np.exp(-(EDC-E0)/(R*T/n/F))*(1+np.exp(-(EDC-E0)/(R*T/n/F)))**-2"
   ]
  },
  {
   "cell_type": "code",
   "execution_count": 10,
   "metadata": {},
   "outputs": [],
   "source": [
    "#def redoximped(input_cd = 1e-6, input_ru = 50):\n",
    "Cd = 1e-6\n",
    "Ru = 50\n",
    "#Cd = input_cd\n",
    "#Ru = input_ru\n",
    "# Compute Impedance and Admittance values, building step by step\n",
    "Zin = Rct # in-phase impedance of charge transfer\n",
    "Zout = 0 # out-of-phase impedance of charge transfer\n",
    "Zin = Zin + 1/(w*Credox) # in-phase impedance of redox branch of circuit\n",
    "Zout = 1/(w*Credox)  # out-of-phase impedance of redox branch of circuit\n",
    "Yin = Zin / (Zin**2 + Zout**2)  # in-phase admittance of redox branch of circuit\n",
    "Yout = Zout / (Zin**2 + Zout**2) # out-of-phase admittance of redox branch of circuit\n",
    "Yin = Yin # in-phase admittance of redox and double-layer parallel branches of circuit\n",
    "Yout = Yout + w*Cd # out-of-phase admittance of redox and double-layer parallel branches of circuit\n",
    "Zin = Yin / (Yin**2 + Yout**2) # in-phase impedance of redox and double-layer parallel branches of circuit\n",
    "Zout = Yout / (Yin**2 + Yout**2) # out-of-phase impedance of redox and double-layer parallel branches of circuit\n",
    "\n",
    "\n",
    "# FINAL FUNCTIONS TO FIT - functions represents entire circuit\n",
    "Zin = Zin + Ru # in-phase impedance of entire circuit\n",
    "Zout = Zout # out-of-phase impedance of entire circuit\n",
    "Yin = Zin / (Zin**2 + Zout**2)  # in-phase admittance of entire circuit\n",
    "Yout = Zout / (Zin**2 + Zout**2) # out-of-phase admittance of entire of circuit\n"
   ]
  },
  {
   "cell_type": "code",
   "execution_count": 11,
   "metadata": {},
   "outputs": [],
   "source": [
    "def redox(input_cd = 1e-6, input_ru = 50):\n",
    "    Cd = 1.56330440e-06\n",
    "    Ru = 9.43225990e+01\n",
    "    # Compute Impedance and Admittance values, building step by step\n",
    "    Zin = Rct # in-phase impedance of charge transfer\n",
    "    Zout = 0 # out-of-phase impedance of charge transfer\n",
    "    Zin = Zin + 1/(w*Credox) # in-phase impedance of redox branch of circuit\n",
    "    Zout = 1/(w*Credox)  # out-of-phase impedance of redox branch of circuit\n",
    "    Yin = Zin / (Zin**2 + Zout**2)  # in-phase admittance of redox branch of circuit\n",
    "    Yout = Zout / (Zin**2 + Zout**2) # out-of-phase admittance of redox branch of circuit\n",
    "    Yin = Yin # in-phase admittance of redox and double-layer parallel branches of circuit\n",
    "    Yout = Yout + w*Cd # out-of-phase admittance of redox and double-layer parallel branches of circuit\n",
    "    Zin = Yin / (Yin**2 + Yout**2) # in-phase impedance of redox and double-layer parallel branches of circuit\n",
    "    Zout = Yout / (Yin**2 + Yout**2) # out-of-phase impedance of redox and double-layer parallel branches of circuit\n",
    "\n",
    "    # FINAL FUNCTIONS TO FIT - functions represents entire circuit\n",
    "    Zin = Zin + Ru # in-phase impedance of entire circuit\n",
    "    Zout = Zout # out-of-phase impedance of entire circuit\n",
    "    Yin = Zin / (Zin**2 + Zout**2)  # in-phase admittance of entire circuit\n",
    "    Yout = Zout / (Zin**2 + Zout**2) # out-of-phase admittance of entire of circuit\n",
    "    plt.plot(Zin, Zout)\n",
    "    plt.show()"
   ]
  },
  {
   "cell_type": "code",
   "execution_count": 12,
   "metadata": {},
   "outputs": [],
   "source": [
    "zin_EIS = zin_EIS.reshape(-1)\n",
    "zout_EIS = zout_EIS.reshape(-1)"
   ]
  },
  {
   "cell_type": "code",
   "execution_count": 26,
   "metadata": {},
   "outputs": [],
   "source": [
    "from scipy.optimize import curve_fit"
   ]
  },
  {
   "cell_type": "code",
   "execution_count": 255,
   "metadata": {},
   "outputs": [],
   "source": [
    "def f(x, R1, R2, C):\n",
    "    #out = R1 + (R2*1/((2*np.pi*x)*C))/(R2+(2*np.pi*x*C))\n",
    "    #out = R1 + ((R2 * C * 2 * np.pi * x) / (R2 + (C * 2 * np.pi * x)) )\n",
    "    out = R1 + (R2/((R2 * C * 2 * np.pi * x) + 1)) \n",
    "    return np.log10(out)\n",
    "\n",
    "# R1 is equal to Re(Z) at the highest frequency point (Rs)\n",
    "# R2 should roughly be diameter of semicircle (Rct)\n",
    "# C is the apex of the circle\n",
    "def fit(x,y, maxfev = 100000, label = None):\n",
    "    popt, popc = curve_fit(f, x, y, maxfev = maxfev, p0 = [20,300,1e-9],bounds = ([0,0,0],[np.inf,np.inf,np.inf]))\n",
    "    plt.loglog(x , y, label = 'Experimental')\n",
    "    plt.loglog(x , f(x, popt[0],popt[1],popt[2]), label = 'Simulated')\n",
    "    plt.xlabel('Frequency', fontsize = 16)\n",
    "    plt.ylabel('Abs. Impedance', fontsize = 16)\n",
    "    plt.legend()\n",
    "    return popt, popc"
   ]
  },
  {
   "cell_type": "code",
   "execution_count": 230,
   "metadata": {},
   "outputs": [],
   "source": [
    "z_abs = np.sqrt(real_Zin**2 + real_Zout**2)\n",
    "y_data = np.log10(z_abs)"
   ]
  },
  {
   "cell_type": "code",
   "execution_count": 236,
   "metadata": {},
   "outputs": [],
   "source": [
    "z_abs_real = np.sqrt(real_Zin**2 + real_Zout**2)\n",
    "z_abs_sim = np.sqrt(sim_Zin**2 + sim_Zout**2)\n",
    "y_data_sim = np.log10(z_abs_sim)"
   ]
  },
  {
   "cell_type": "code",
   "execution_count": 251,
   "metadata": {},
   "outputs": [
    {
     "data": {
      "image/png": "[encoded data removed]",
      "text/plain": [
       "<Figure size 432x288 with 1 Axes>"
      ]
     },
     "metadata": {
      "needs_background": "light"
     },
     "output_type": "display_data"
    }
   ],
   "source": [
    "plt.loglog(w, y_data, label = 'Experimental')\n",
    "#plt.loglog(w, y_data_sim, label = 'Simulated')\n",
    "plt.loglog(w, f(w, 20, 300, 1e-5), label = 'Simulated')\n",
    "plt.xlabel('Frequency', fontsize = 16)\n",
    "plt.ylabel('Abs. Impedance', fontsize = 16)\n",
    "plt.legend()\n",
    "plt.show()"
   ]
  },
  {
   "cell_type": "code",
   "execution_count": 256,
   "metadata": {},
   "outputs": [
    {
     "data": {
      "image/png": "[encoded data removed]",
      "text/plain": [
       "<Figure size 432x288 with 1 Axes>"
      ]
     },
     "metadata": {
      "needs_background": "light"
     },
     "output_type": "display_data"
    }
   ],
   "source": [
    "result, _ = fit(w, y_data)\n",
    "#print(result)"
   ]
  },
  {
   "cell_type": "code",
   "execution_count": null,
   "metadata": {},
   "outputs": [],
   "source": []
  }
 ],
 "metadata": {
  "kernelspec": {
   "display_name": "Python 3",
   "language": "python",
   "name": "python3"
  },
  "language_info": {
   "codemirror_mode": {
    "name": "ipython",
    "version": 3
   },
   "file_extension": ".py",
   "mimetype": "text/x-python",
   "name": "python",
   "nbconvert_exporter": "python",
   "pygments_lexer": "ipython3",
   "version": "3.8.5"
  }
 },
 "nbformat": 4,
 "nbformat_minor": 4
}
